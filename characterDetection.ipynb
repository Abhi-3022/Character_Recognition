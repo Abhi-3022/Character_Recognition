{
  "nbformat": 4,
  "nbformat_minor": 0,
  "metadata": {
    "colab": {
      "provenance": [],
      "gpuType": "T4"
    },
    "kernelspec": {
      "name": "python3",
      "display_name": "Python 3"
    },
    "language_info": {
      "name": "python"
    },
    "accelerator": "GPU"
  },
  "cells": [
    {
      "cell_type": "code",
      "source": [
        "import tensorflow as tf\n",
        "import numpy as np\n",
        "import pandas as pd\n",
        "from tensorflow.keras.models import Sequential\n",
        "from tensorflow.keras.layers import Dense,Conv2D,MaxPooling2D,Flatten,Dropout\n",
        "from tensorflow.keras.activations import relu,sigmoid,linear\n",
        "from sklearn.model_selection import train_test_split\n",
        "from tensorflow.keras.preprocessing import image\n",
        "from google.colab.patches import cv2_imshow\n",
        "import cv2\n",
        "import matplotlib.pyplot as plt\n",
        "import matplotlib.image as mpimg\n",
        "from PIL import Image\n",
        "from sklearn.preprocessing import LabelEncoder"
      ],
      "metadata": {
        "id": "M0k1gAksf0jc"
      },
      "execution_count": 138,
      "outputs": []
    },
    {
      "cell_type": "code",
      "source": [
        "data = pd.read_csv(\"/content/drive/MyDrive/archive (1)/english.csv\")"
      ],
      "metadata": {
        "id": "jLbsIT60h6wk"
      },
      "execution_count": 139,
      "outputs": []
    },
    {
      "cell_type": "markdown",
      "source": [
        "Without Label encoder"
      ],
      "metadata": {
        "id": "jyVRYUQTJkpX"
      }
    },
    {
      "cell_type": "markdown",
      "source": [
        "\n",
        "\n",
        "```\n",
        "# for j in range(0,len(data['label'])):\n",
        "  for i in range(65,91):\n",
        "    if (ascii(data['label'][j]))==('\\''+chr(i)+'\\''):\n",
        "      data['label'][j]=i-55\n",
        "for j in range(0,len(data['label'])):\n",
        "  for i in range(97,123):\n",
        "    if (ascii(data['label'][j]))==('\\''+chr(i)+'\\''):\n",
        "      data['label'][j]=i-60\n",
        "```\n",
        "\n",
        "\n",
        "\n",
        "\n",
        "\n",
        "\n"
      ],
      "metadata": {
        "id": "U8BBUlwCJgMq"
      }
    },
    {
      "cell_type": "code",
      "source": [
        "data['label'][677]"
      ],
      "metadata": {
        "colab": {
          "base_uri": "https://localhost:8080/",
          "height": 36
        },
        "id": "uMbAtLBQBxJy",
        "outputId": "45ddea44-6238-48fb-abea-5aaad99e30ed"
      },
      "execution_count": 140,
      "outputs": [
        {
          "output_type": "execute_result",
          "data": {
            "text/plain": [
              "'C'"
            ],
            "application/vnd.google.colaboratory.intrinsic+json": {
              "type": "string"
            }
          },
          "metadata": {},
          "execution_count": 140
        }
      ]
    },
    {
      "cell_type": "code",
      "source": [
        "x = np.array(data['image'])"
      ],
      "metadata": {
        "id": "lK-_ftWSAMg3"
      },
      "execution_count": 145,
      "outputs": []
    },
    {
      "cell_type": "code",
      "source": [
        "x"
      ],
      "metadata": {
        "colab": {
          "base_uri": "https://localhost:8080/"
        },
        "id": "lj88Dy0s8ASe",
        "outputId": "f9194693-3030-449a-d209-5740452cc1f5"
      },
      "execution_count": 143,
      "outputs": [
        {
          "output_type": "execute_result",
          "data": {
            "text/plain": [
              "array(['Img/img001-001.png', 'Img/img001-002.png', 'Img/img001-003.png',\n",
              "       ..., 'Img/img062-053.png', 'Img/img062-054.png',\n",
              "       'Img/img062-055.png'], dtype=object)"
            ]
          },
          "metadata": {},
          "execution_count": 143
        }
      ]
    },
    {
      "cell_type": "code",
      "source": [
        "y = data['label']\n",
        "le = LabelEncoder()\n",
        "y = le.fit_transform(y)"
      ],
      "metadata": {
        "id": "R1XDwUnFBDCg"
      },
      "execution_count": 146,
      "outputs": []
    },
    {
      "cell_type": "code",
      "source": [
        "img = mpimg.imread('/content/drive/MyDrive/archive (1)/'+x[0])\n",
        "imgplot = plt.imshow(img)\n",
        "plt.show()\n"
      ],
      "metadata": {
        "colab": {
          "base_uri": "https://localhost:8080/",
          "height": 435
        },
        "id": "hJcfMvrgaZPn",
        "outputId": "037875c2-a1d2-42a8-fccd-2208cdad4b3c"
      },
      "execution_count": 148,
      "outputs": [
        {
          "output_type": "display_data",
          "data": {
            "text/plain": [
              "<Figure size 640x480 with 1 Axes>"
            ],
            "image/png": "[encoded data removed]"
          },
          "metadata": {}
        }
      ]
    },
    {
      "cell_type": "code",
      "source": [
        "x_modified = []\n",
        "\n",
        "for i in data['image']:\n",
        "  img = Image.open('/content/drive/MyDrive/archive (1)/'+i)\n",
        "  img = img.resize((64,64))\n",
        "  img = img.convert('RGB')\n",
        "  img = np.array(img)\n",
        "  x_modified.append(img)\n"
      ],
      "metadata": {
        "id": "UbjUQq54d2wA"
      },
      "execution_count": 149,
      "outputs": []
    },
    {
      "cell_type": "code",
      "source": [
        "x_modified = np.array(x_modified)"
      ],
      "metadata": {
        "id": "Ug63WPdmDHsC"
      },
      "execution_count": 150,
      "outputs": []
    },
    {
      "cell_type": "code",
      "source": [
        "x_scaled = x_modified/255\n",
        "x_scaled.shape"
      ],
      "metadata": {
        "colab": {
          "base_uri": "https://localhost:8080/"
        },
        "id": "8M9goaPCwtdT",
        "outputId": "76f82193-f757-46ec-b98b-7e7c8254cff1"
      },
      "execution_count": 151,
      "outputs": [
        {
          "output_type": "execute_result",
          "data": {
            "text/plain": [
              "(3410, 64, 64, 3)"
            ]
          },
          "metadata": {},
          "execution_count": 151
        }
      ]
    },
    {
      "cell_type": "code",
      "source": [
        "x_train,x_test,y_train,y_test = train_test_split(x_scaled,y,test_size = 0.20)\n",
        "x_train = tf.convert_to_tensor(x_train)\n",
        "y_train = tf.convert_to_tensor(y_train)"
      ],
      "metadata": {
        "id": "PWOsY4Pqwv3G"
      },
      "execution_count": 158,
      "outputs": []
    },
    {
      "cell_type": "code",
      "source": [
        "model = Sequential()\n",
        "model.add(Conv2D(512,kernel_size=(5,5),activation='relu',input_shape=(64,64,3)))\n",
        "model.add(MaxPooling2D(pool_size=(2,2)))\n",
        "\n",
        "model.add(Conv2D(256,kernel_size=(3,3),activation='relu'))\n",
        "model.add(MaxPooling2D(pool_size=(2,2)))\n",
        "\n",
        "model.add(Conv2D(256,kernel_size=(3,3),activation='relu'))\n",
        "model.add(MaxPooling2D(pool_size=(2,2)))\n",
        "\n",
        "model.add(Flatten())\n",
        "\n",
        "model.add(Dense(512,activation='relu'))\n",
        "\n",
        "model.add(Dense(1024,activation='relu'))\n",
        "\n",
        "model.add(Dense(512,activation='relu'))\n",
        "\n",
        "model.add(Dense(256,activation='relu'))\n",
        "\n",
        "model.add(Dense(62,activation='softmax'))"
      ],
      "metadata": {
        "id": "EglA4nfie0XC"
      },
      "execution_count": 159,
      "outputs": []
    },
    {
      "cell_type": "code",
      "source": [
        "model.summary()"
      ],
      "metadata": {
        "colab": {
          "base_uri": "https://localhost:8080/"
        },
        "id": "LPlhWP-Ng5lB",
        "outputId": "84c8bfda-9a8d-48a4-c885-e5bb91deab28"
      },
      "execution_count": 154,
      "outputs": [
        {
          "output_type": "stream",
          "name": "stdout",
          "text": [
            "Model: \"sequential_9\"\n",
            "_________________________________________________________________\n",
            " Layer (type)                Output Shape              Param #   \n",
            "=================================================================\n",
            " conv2d_27 (Conv2D)          (None, 60, 60, 512)       38912     \n",
            "                                                                 \n",
            " max_pooling2d_27 (MaxPoolin  (None, 30, 30, 512)      0         \n",
            " g2D)                                                            \n",
            "                                                                 \n",
            " conv2d_28 (Conv2D)          (None, 28, 28, 256)       1179904   \n",
            "                                                                 \n",
            " max_pooling2d_28 (MaxPoolin  (None, 14, 14, 256)      0         \n",
            " g2D)                                                            \n",
            "                                                                 \n",
            " conv2d_29 (Conv2D)          (None, 12, 12, 256)       590080    \n",
            "                                                                 \n",
            " max_pooling2d_29 (MaxPoolin  (None, 6, 6, 256)        0         \n",
            " g2D)                                                            \n",
            "                                                                 \n",
            " flatten_9 (Flatten)         (None, 9216)              0         \n",
            "                                                                 \n",
            " dense_39 (Dense)            (None, 512)               4719104   \n",
            "                                                                 \n",
            " dense_40 (Dense)            (None, 1024)              525312    \n",
            "                                                                 \n",
            " dense_41 (Dense)            (None, 512)               524800    \n",
            "                                                                 \n",
            " dense_42 (Dense)            (None, 256)               131328    \n",
            "                                                                 \n",
            " dense_43 (Dense)            (None, 62)                15934     \n",
            "                                                                 \n",
            "=================================================================\n",
            "Total params: 7,725,374\n",
            "Trainable params: 7,725,374\n",
            "Non-trainable params: 0\n",
            "_________________________________________________________________\n"
          ]
        }
      ]
    },
    {
      "cell_type": "code",
      "source": [
        "model.compile(\n",
        "    loss = 'sparse_categorical_crossentropy',\n",
        "    optimizer = tf.keras.optimizers.Adam(learning_rate=0.001),\n",
        "    metrics = ['acc']\n",
        ")"
      ],
      "metadata": {
        "id": "jCGS22u2gye8"
      },
      "execution_count": 160,
      "outputs": []
    },
    {
      "cell_type": "code",
      "source": [
        "history = model.fit(x_train,y_train,validation_split = 0.1,epochs = 20)"
      ],
      "metadata": {
        "colab": {
          "base_uri": "https://localhost:8080/"
        },
        "id": "HM9VidCmw6eT",
        "outputId": "3e7da745-faa2-4804-d3a7-289a8b87eae1"
      },
      "execution_count": 161,
      "outputs": [
        {
          "output_type": "stream",
          "name": "stdout",
          "text": [
            "Epoch 1/20\n",
            "77/77 [==============================] - 6s 44ms/step - loss: 4.1312 - acc: 0.0155 - val_loss: 4.1279 - val_acc: 0.0110\n",
            "Epoch 2/20\n",
            "77/77 [==============================] - 3s 42ms/step - loss: 4.1270 - acc: 0.0191 - val_loss: 4.1107 - val_acc: 0.0110\n",
            "Epoch 3/20\n",
            "77/77 [==============================] - 3s 41ms/step - loss: 3.7163 - acc: 0.0733 - val_loss: 3.0870 - val_acc: 0.1282\n",
            "Epoch 4/20\n",
            "77/77 [==============================] - 3s 40ms/step - loss: 2.6062 - acc: 0.2464 - val_loss: 2.1977 - val_acc: 0.3407\n",
            "Epoch 5/20\n",
            "77/77 [==============================] - 3s 41ms/step - loss: 1.7314 - acc: 0.4627 - val_loss: 1.4252 - val_acc: 0.5385\n",
            "Epoch 6/20\n",
            "77/77 [==============================] - 3s 41ms/step - loss: 1.1256 - acc: 0.6232 - val_loss: 1.4228 - val_acc: 0.5568\n",
            "Epoch 7/20\n",
            "77/77 [==============================] - 3s 42ms/step - loss: 0.7163 - acc: 0.7580 - val_loss: 1.2391 - val_acc: 0.6117\n",
            "Epoch 8/20\n",
            "77/77 [==============================] - 3s 41ms/step - loss: 0.4930 - acc: 0.8334 - val_loss: 1.2165 - val_acc: 0.6667\n",
            "Epoch 9/20\n",
            "77/77 [==============================] - 3s 41ms/step - loss: 0.4036 - acc: 0.8493 - val_loss: 1.0506 - val_acc: 0.7289\n",
            "Epoch 10/20\n",
            "77/77 [==============================] - 3s 41ms/step - loss: 0.2954 - acc: 0.9006 - val_loss: 1.1027 - val_acc: 0.7070\n",
            "Epoch 11/20\n",
            "77/77 [==============================] - 3s 42ms/step - loss: 0.2451 - acc: 0.9088 - val_loss: 1.1791 - val_acc: 0.7106\n",
            "Epoch 12/20\n",
            "77/77 [==============================] - 3s 42ms/step - loss: 0.2173 - acc: 0.9291 - val_loss: 1.2119 - val_acc: 0.7289\n",
            "Epoch 13/20\n",
            "77/77 [==============================] - 3s 40ms/step - loss: 0.1982 - acc: 0.9373 - val_loss: 1.1273 - val_acc: 0.7582\n",
            "Epoch 14/20\n",
            "77/77 [==============================] - 3s 41ms/step - loss: 0.1397 - acc: 0.9470 - val_loss: 1.3193 - val_acc: 0.7179\n",
            "Epoch 15/20\n",
            "77/77 [==============================] - 3s 41ms/step - loss: 0.1376 - acc: 0.9540 - val_loss: 1.1904 - val_acc: 0.7619\n",
            "Epoch 16/20\n",
            "77/77 [==============================] - 3s 43ms/step - loss: 0.0784 - acc: 0.9727 - val_loss: 1.2347 - val_acc: 0.7692\n",
            "Epoch 17/20\n",
            "77/77 [==============================] - 3s 44ms/step - loss: 0.0919 - acc: 0.9707 - val_loss: 1.2032 - val_acc: 0.7912\n",
            "Epoch 18/20\n",
            "77/77 [==============================] - 3s 42ms/step - loss: 0.0929 - acc: 0.9670 - val_loss: 1.6151 - val_acc: 0.7289\n",
            "Epoch 19/20\n",
            "77/77 [==============================] - 3s 41ms/step - loss: 0.1645 - acc: 0.9442 - val_loss: 1.6186 - val_acc: 0.6886\n",
            "Epoch 20/20\n",
            "77/77 [==============================] - 3s 42ms/step - loss: 0.1161 - acc: 0.9613 - val_loss: 1.3154 - val_acc: 0.7399\n"
          ]
        }
      ]
    },
    {
      "cell_type": "code",
      "source": [
        "loss,accuracy = model.evaluate(x_test,y_test)\n",
        "print(\"Test Accuracy: {}\".format(accuracy))"
      ],
      "metadata": {
        "colab": {
          "base_uri": "https://localhost:8080/"
        },
        "id": "MKil9O6-oPFb",
        "outputId": "09ec91ea-0ea7-4676-be22-468cac25e8af"
      },
      "execution_count": 162,
      "outputs": [
        {
          "output_type": "stream",
          "name": "stdout",
          "text": [
            "22/22 [==============================] - 0s 15ms/step - loss: 1.3393 - acc: 0.7507\n",
            "Test Accuracy: 0.7507331371307373\n"
          ]
        }
      ]
    },
    {
      "cell_type": "code",
      "source": [
        "h = history\n",
        "plt.plot(h.history['loss'],label = 'Train loss')\n",
        "plt.plot(h.history['val_loss'],label = 'Validation loss')\n",
        "plt.legend()\n",
        "plt.plot()"
      ],
      "metadata": {
        "colab": {
          "base_uri": "https://localhost:8080/",
          "height": 447
        },
        "id": "TKmGkZ14oRm0",
        "outputId": "ed670ec1-31ef-4aec-940e-65e25ed8ec9b"
      },
      "execution_count": 163,
      "outputs": [
        {
          "output_type": "execute_result",
          "data": {
            "text/plain": [
              "[]"
            ]
          },
          "metadata": {},
          "execution_count": 163
        },
        {
          "output_type": "display_data",
          "data": {
            "text/plain": [
              "<Figure size 640x480 with 1 Axes>"
            ],
            "image/png": "[encoded data removed]"
          },
          "metadata": {}
        }
      ]
    },
    {
      "cell_type": "code",
      "source": [
        "plt.plot(h.history['acc'],label = 'Train Accuracy')\n",
        "plt.plot(h.history['val_acc'],label = 'Validation Accuracy')\n",
        "plt.legend()\n",
        "plt.plot()"
      ],
      "metadata": {
        "colab": {
          "base_uri": "https://localhost:8080/",
          "height": 447
        },
        "id": "ARqWyjEaoT1Z",
        "outputId": "a982faf5-a220-4cbb-87be-266629b95a4e"
      },
      "execution_count": 164,
      "outputs": [
        {
          "output_type": "execute_result",
          "data": {
            "text/plain": [
              "[]"
            ]
          },
          "metadata": {},
          "execution_count": 164
        },
        {
          "output_type": "display_data",
          "data": {
            "text/plain": [
              "<Figure size 640x480 with 1 Axes>"
            ],
            "image/png": "[encoded data removed]"
          },
          "metadata": {}
        }
      ]
    },
    {
      "cell_type": "code",
      "source": [
        "predicted_labels = le.inverse_transform(model.predict(x_test).argmax(axis=1))\n",
        "actual_labels = le.inverse_transform(y_test)"
      ],
      "metadata": {
        "colab": {
          "base_uri": "https://localhost:8080/"
        },
        "id": "5v4GSMivMoQd",
        "outputId": "8237bc87-b6bf-4853-e8f0-0fcc6615cc94"
      },
      "execution_count": 165,
      "outputs": [
        {
          "output_type": "stream",
          "name": "stdout",
          "text": [
            "22/22 [==============================] - 0s 13ms/step\n"
          ]
        }
      ]
    },
    {
      "cell_type": "code",
      "source": [
        "print('predicted label is ;',predicted_labels[56])\n",
        "print('Actual Label is :',actual_labels[56])"
      ],
      "metadata": {
        "colab": {
          "base_uri": "https://localhost:8080/"
        },
        "id": "MOkkHVqLMsrC",
        "outputId": "13d68ddf-7615-4cd0-b7d8-6662dd951e45"
      },
      "execution_count": 167,
      "outputs": [
        {
          "output_type": "stream",
          "name": "stdout",
          "text": [
            "predicted label is ; A\n",
            "Actual Label is : A\n"
          ]
        }
      ]
    },
    {
      "cell_type": "code",
      "source": [
        "img_path = input(\"Enter the image path : \")\n",
        "inp_img = cv2.imread(img_path)\n",
        "cv2_imshow(inp_img)"
      ],
      "metadata": {
        "colab": {
          "base_uri": "https://localhost:8080/",
          "height": 869
        },
        "id": "ODhqzj4PoWpE",
        "outputId": "04a0522b-9885-46c8-c3d1-d75c5c8143a0"
      },
      "execution_count": 168,
      "outputs": [
        {
          "name": "stdout",
          "output_type": "stream",
          "text": [
            "Enter the image path : /content/drive/MyDrive/archive (1)/Img/img018-015.png\n"
          ]
        },
        {
          "output_type": "display_data",
          "data": {
            "text/plain": [
              "<PIL.Image.Image image mode=RGB size=1200x900 at 0x7FDFA92EB550>"
            ],
            "image/png": "[encoded data removed]"
          },
          "metadata": {}
        }
      ]
    },
    {
      "cell_type": "code",
      "source": [
        "img = Image.open(img_path)\n",
        "img = img.resize((64,64))\n",
        "img = img.convert('RGB')\n",
        "img = np.array(img)\n",
        "\n",
        "#inp_img = cv2.resize(inp_img,(64,64))\n",
        "inp_img = img / 255\n",
        "print(inp_img.shape)\n",
        "inp_img = np.reshape(inp_img,[1,64,64,3])"
      ],
      "metadata": {
        "colab": {
          "base_uri": "https://localhost:8080/"
        },
        "id": "xNLPXC8WoaF3",
        "outputId": "385de1a8-9796-41b6-8c09-8ada74bb3b02"
      },
      "execution_count": 169,
      "outputs": [
        {
          "output_type": "stream",
          "name": "stdout",
          "text": [
            "(64, 64, 3)\n"
          ]
        }
      ]
    },
    {
      "cell_type": "code",
      "source": [
        "predicted_label = le.inverse_transform(model.predict(inp_img).argmax(axis=1))\n",
        "print('predicted label is ;',predicted_label)"
      ],
      "metadata": {
        "colab": {
          "base_uri": "https://localhost:8080/"
        },
        "id": "OgH0gD95MvL4",
        "outputId": "1a5e7807-cee3-4e28-fcbe-d10c5178ee50"
      },
      "execution_count": 170,
      "outputs": [
        {
          "output_type": "stream",
          "name": "stdout",
          "text": [
            "1/1 [==============================] - 0s 231ms/step\n",
            "predicted label is ; ['H']\n"
          ]
        }
      ]
    },
    {
      "cell_type": "code",
      "source": [
        "from sklearn.metrics import accuracy_score, precision_score, recall_score, f1_score, confusion_matrix\n",
        "\n",
        "\n",
        "y_pred = model.predict(x_test)\n",
        "y_pred_labels = np.argmax(y_pred, axis=1)\n",
        "\n",
        "# Calculate evaluation metrics\n",
        "accuracy = accuracy_score(y_test, y_pred_labels)\n",
        "precision = precision_score(y_test, y_pred_labels, average='weighted')\n",
        "recall = recall_score(y_test, y_pred_labels, average='weighted')\n",
        "f1 = f1_score(y_test, y_pred_labels, average='weighted')\n",
        "confusion_mat = confusion_matrix(y_test, y_pred_labels)\n",
        "\n",
        "# Print or use the evaluation metrics as needed\n",
        "print(\"Accuracy:\", accuracy)\n",
        "print(\"Precision:\", precision)\n",
        "print(\"Recall:\", recall)\n",
        "print(\"F1 Score:\", f1)\n",
        "print(\"Confusion Matrix:\")\n",
        "print(confusion_mat)"
      ],
      "metadata": {
        "colab": {
          "base_uri": "https://localhost:8080/"
        },
        "id": "psxjpdqwMdfc",
        "outputId": "f8a3e5ec-3956-4cae-dc3d-72d4f580bdfe"
      },
      "execution_count": 172,
      "outputs": [
        {
          "output_type": "stream",
          "name": "stdout",
          "text": [
            "22/22 [==============================] - 0s 15ms/step\n",
            "Accuracy: 0.750733137829912\n",
            "Precision: 0.7828422003264596\n",
            "Recall: 0.750733137829912\n",
            "F1 Score: 0.7529039713021864\n",
            "Confusion Matrix:\n",
            "[[ 5  0  0 ...  0  0  0]\n",
            " [ 0  6  0 ...  0  0  0]\n",
            " [ 0  0  5 ...  1  0  1]\n",
            " ...\n",
            " [ 0  0  0 ... 10  0  0]\n",
            " [ 0  0  0 ...  0  8  0]\n",
            " [ 0  0  0 ...  0  0  1]]\n"
          ]
        }
      ]
    }
  ]
}